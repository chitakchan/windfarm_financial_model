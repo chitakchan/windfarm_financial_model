{
 "cells": [
  {
   "attachments": {},
   "cell_type": "markdown",
   "metadata": {},
   "source": [
    "dcf model version b"
   ]
  },
  {
   "cell_type": "code",
   "execution_count": 30,
   "metadata": {},
   "outputs": [
    {
     "name": "stdout",
     "output_type": "stream",
     "text": [
      "[0.10, 0.33, 0.63]\n",
      "[0.10, 0.33, 0.63]\n"
     ]
    }
   ],
   "source": [
    "class FloatList(list):\n",
    "\n",
    "    def __init__(self, *args):\n",
    "        super().__init__(args)\n",
    "\n",
    "    def __format__(self, format_spec):\n",
    "        return f'[{\", \".join(f\"{i:{format_spec}}\" for i in self)}]'\n",
    "\n",
    "class FloatList_v1(list):\n",
    "\n",
    "    def __init__(self, *args):\n",
    "        super().__init__(args)\n",
    "\n",
    "    def __format__(self, format_spec):\n",
    "        return f'[{\", \".join(f\"{i:{format_spec}}\" for i in self)}]'\n",
    "\n",
    "fl = FloatList(0.1, 0.33, 0.632)\n",
    "print(f\"{fl:.2f}\")  # [0.10, 0.33, 0.63]\n",
    "fl = FloatList_v1(0.1, 0.33, 0.632)\n",
    "print(f\"{fl:.2f}\")  # [0.10, 0.33, 0.63]\n"
   ]
  },
  {
   "attachments": {},
   "cell_type": "markdown",
   "metadata": {},
   "source": [
    "input"
   ]
  },
  {
   "cell_type": "code",
   "execution_count": 44,
   "metadata": {},
   "outputs": [
    {
     "name": "stdout",
     "output_type": "stream",
     "text": [
      "gwh: 5256.00, strike price at completion: 67708.56,     opex per GW at completion: 75.0\n"
     ]
    }
   ],
   "source": [
    "import numpy as np\n",
    "import numpy_financial as npf\n",
    "# general input\n",
    "period = 20\n",
    "interest_rate = 0.05\n",
    "cap_cost = [-100.0,-30.0,-20.0]\n",
    "const_period = len(cap_cost)\n",
    "loan_ratio = 0.8\n",
    "gw =125*16/1000\n",
    "gwh = gw * 0.3 * 8760\n",
    "\n",
    "\n",
    "# opex input\n",
    "gwh = gw*0.3*8760   # 125 turbines each 16 mw running at 30% capacity factor\n",
    "strike_price_base_year = 46*1000  # per GWH, from £46 per MWh\n",
    "base_year = 2012\n",
    "completion_year = 2029\n",
    "cpi = 2.3/100\n",
    "\n",
    "strike_price_comp_year = strike_price_base_year * (1+cpi)**(completion_year - base_year)\n",
    "\n",
    "opex_per_GW = 75   # 75 £m per GW\n",
    "base_year_opex = 2029\n",
    "completion_year = 2029\n",
    "opex_cpi = 2.3/100\n",
    "\n",
    "opex_per_GW_comp_year = opex_per_GW * (1+opex_cpi)**(completion_year - base_year_opex)\n",
    "\n",
    "print(f'gwh: {gwh:.2f}, strike price at completion: {strike_price_comp_year:.2f}, \\\n",
    "    opex per GW at completion: {opex_per_GW_comp_year}')\n",
    "\n",
    "# finance input\n",
    "depreciation_period = 10  # both for wind farm and sub stations\n",
    "debt_repayment_period = 5\n"
   ]
  },
  {
   "attachments": {},
   "cell_type": "markdown",
   "metadata": {},
   "source": [
    "calculate capex"
   ]
  },
  {
   "cell_type": "code",
   "execution_count": 45,
   "metadata": {},
   "outputs": [
    {
     "name": "stdout",
     "output_type": "stream",
     "text": [
      "loan draw down: [-82.0, -28.7, -21.935000000000002], loan balance: [-82.0, -110.7, -132.635]\n",
      "capex: [-102.0, -34.7, -25.935000000000002], including capital costs: [-100.0, -30.0, -20.0] and capitalized interest: [-2.0, -4.7, -5.9350000000000005]\n",
      "capex: [-102.0, -34.7, -25.935000000000002], financed by equity: [-20.0, -6.0000000000000036, -4.0] and loan: [-82.0, -28.7, -21.935000000000002]    \n",
      "total capex:162.6, financed by equity: 30.00 and loan: 132.63\n"
     ]
    }
   ],
   "source": [
    "loan = [i * loan_ratio for i in cap_cost]\n",
    "cap_int =[]\n",
    "loan_bal = []\n",
    "prev_loan_bal = 0\n",
    "for i in range(len(loan)):\n",
    "    \n",
    "    loan_bal_avg = prev_loan_bal + loan[i]/2\n",
    "    \n",
    "    int = loan_bal_avg * interest_rate\n",
    "    loan[i] += int\n",
    "    loan_balance = prev_loan_bal + loan[i]\n",
    "    cap_int.append(int)\n",
    "    loan_bal.append(loan_balance)\n",
    "    prev_loan_bal = loan_balance\n",
    "capex = [x + y for x, y in zip(cap_cost, cap_int)]\n",
    "equity = [x - y for x, y in zip(capex, loan)]\n",
    "capex_sum = - sum(capex)\n",
    "loan_sum = - sum(loan)\n",
    "equity_sum = - sum(equity)\n",
    "wf = FloatList_v1(loan)\n",
    "print(f\"loan draw down: {loan}, loan balance: {loan_bal}\")\n",
    "print(f'capex: {capex}, including capital costs: {cap_cost} and capitalized interest: {cap_int}')\n",
    "print(f'capex: {capex}, financed by equity: {equity} and loan: {loan}\\\n",
    "    \\ntotal capex:{capex_sum:.1f}, financed by equity: {equity_sum:.2f} and loan: {loan_sum:.2f}')\n",
    "#for i in range(period):  cap_cost.append(0)\n",
    "#for i in range(period):  loan.append(0)"
   ]
  },
  {
   "attachments": {},
   "cell_type": "markdown",
   "metadata": {},
   "source": [
    "revenue calculation"
   ]
  },
  {
   "cell_type": "code",
   "execution_count": 46,
   "metadata": {},
   "outputs": [
    {
     "name": "stdout",
     "output_type": "stream",
     "text": [
      "revenue in £ millions (nominal): [355.87621373316006, 364.0613666490227, 372.4347780819502, 381.000777977835, 389.76379587132516, 398.7283631763656, 407.89911552942203, 417.2807951865987, 426.8782534758904, 436.69645330583586, 446.74047173187006, 457.01550258170295, 467.5268591410821, 478.279976901327, 489.2804163700574, 500.5338659465687, 512.0461448633397, 523.8232061951965, 535.871139937686, 548.1961761562527]\n",
      "revenue in £ millions (nominal): [355.87621373316006, 364.0613666490227, 372.4347780819502, 381.000777977835, 389.76379587132516, 398.7283631763656, 407.89911552942203, 417.2807951865987, 426.8782534758904, 436.69645330583586, 446.74047173187006, 457.01550258170295, 467.5268591410821, 478.279976901327, 489.2804163700574, 500.5338659465687, 512.0461448633397, 523.8232061951965, 535.871139937686, 548.1961761562527] \n",
      " opex in £millions (nominal): [150.0, 153.45, 156.97934999999998, 160.58987504999996, 164.28344217614995, 168.06196134620137, 171.927386457164, 175.88171634567877, 179.92699582162933, 184.06531672552683, 188.29881901021392, 192.62969184744878, 197.0601747599401, 201.59255877941874, 206.22918763134533, 210.97245894686623, 215.82482550264416, 220.78879648920494, 225.86693880845667, 231.06187840105113]\n"
     ]
    }
   ],
   "source": [
    "annual_revenue = strike_price_comp_year * gwh /1000000  # in £ millions \n",
    "revenue = []\n",
    "for i in range(period):  revenue.append(annual_revenue * (1+cpi)**i)\n",
    "print(f'revenue in £ millions (nominal): {revenue}')\n",
    "annual_opex = opex_per_GW_comp_year * gw\n",
    "opex = []\n",
    "for i in range(period):  opex.append(annual_opex * (1+opex_cpi)**i)\n",
    "print(f'revenue in £ millions (nominal): {revenue} \\n opex in £millions (nominal): {opex}')\n"
   ]
  },
  {
   "attachments": {},
   "cell_type": "markdown",
   "metadata": {},
   "source": [
    "depreciation calculation"
   ]
  },
  {
   "cell_type": "code",
   "execution_count": 47,
   "metadata": {},
   "outputs": [],
   "source": [
    "annual_depreciation = capex_sum / depreciation_period\n",
    "depreciation = []\n",
    "for i in range(period):  depreciation.append(annual_depreciation)"
   ]
  },
  {
   "attachments": {},
   "cell_type": "markdown",
   "metadata": {},
   "source": [
    "debt payment calculation"
   ]
  },
  {
   "cell_type": "code",
   "execution_count": 49,
   "metadata": {},
   "outputs": [
    {
     "name": "stdout",
     "output_type": "stream",
     "text": [
      "loan: [-82.0, -28.7, -21.935000000000002, 26.526999999999997, 26.526999999999997, 26.526999999999997, 26.526999999999997, 26.526999999999997, 26.526999999999997, 26.526999999999997, 26.526999999999997, 26.526999999999997, 26.526999999999997], \n",
      "loan balance: [-82.0, -110.7, -132.635, -159.16199999999998, -185.68899999999996, -212.21599999999995, -238.74299999999994, -265.2699999999999, -238.74299999999994, -212.21599999999995, -185.68899999999996, -159.16199999999998, -132.635]\n",
      "op interest: [-13.926674999999998, -12.600324999999998, -11.273974999999998, -9.947624999999999, -8.621274999999999]\n"
     ]
    }
   ],
   "source": [
    "annual_debt_repayment = loan_sum / debt_repayment_period\n",
    "op_int =[]\n",
    "# loan_bal = []\n",
    "for i in range(debt_repayment_period):  loan.append(annual_debt_repayment)\n",
    "\n",
    "prev_loan_bal = loan_bal[-1]\n",
    "for i in range(debt_repayment_period):\n",
    "    j = i + const_period\n",
    "    loan_bal_avg = prev_loan_bal - loan[j]/2\n",
    "    \n",
    "    int = loan_bal_avg * interest_rate\n",
    "   \n",
    "    loan_balance = prev_loan_bal + loan[j]\n",
    "    op_int.append(int)\n",
    "    loan_bal.append(loan_balance)\n",
    "    prev_loan_bal = loan_balance\n",
    "print(f\"loan: {loan}, \\nloan balance: {loan_bal}\")\n",
    "print(f'op interest: {op_int}')\n"
   ]
  },
  {
   "cell_type": "markdown",
   "metadata": {},
   "source": [
    "profit and loss"
   ]
  },
  {
   "cell_type": "code",
   "execution_count": null,
   "metadata": {},
   "outputs": [],
   "source": []
  },
  {
   "cell_type": "code",
   "execution_count": null,
   "metadata": {},
   "outputs": [],
   "source": [
    "ebit = capex = [x - y for x, y in zip(revenue, opex)]"
   ]
  }
 ],
 "metadata": {
  "kernelspec": {
   "display_name": "Python 3",
   "language": "python",
   "name": "python3"
  },
  "language_info": {
   "codemirror_mode": {
    "name": "ipython",
    "version": 3
   },
   "file_extension": ".py",
   "mimetype": "text/x-python",
   "name": "python",
   "nbconvert_exporter": "python",
   "pygments_lexer": "ipython3",
   "version": "3.7.9 (tags/v3.7.9:13c94747c7, Aug 17 2020, 18:01:55) [MSC v.1900 32 bit (Intel)]"
  },
  "orig_nbformat": 4,
  "vscode": {
   "interpreter": {
    "hash": "1007a08ede8b7e16a07142a0e8f9fd3072ac95e566fa039387b0d8ab61942c53"
   }
  }
 },
 "nbformat": 4,
 "nbformat_minor": 2
}
